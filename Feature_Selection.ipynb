{
  "nbformat": 4,
  "nbformat_minor": 0,
  "metadata": {
    "colab": {
      "provenance": [],
      "include_colab_link": true
    },
    "kernelspec": {
      "name": "python3",
      "display_name": "Python 3"
    },
    "language_info": {
      "name": "python"
    },
    "widgets": {
      "application/vnd.jupyter.widget-state+json": {
        "3deb27ce8fda4d3ba7f3033bbb06d838": {
          "model_module": "@jupyter-widgets/controls",
          "model_name": "HBoxModel",
          "model_module_version": "1.5.0",
          "state": {
            "_dom_classes": [],
            "_model_module": "@jupyter-widgets/controls",
            "_model_module_version": "1.5.0",
            "_model_name": "HBoxModel",
            "_view_count": null,
            "_view_module": "@jupyter-widgets/controls",
            "_view_module_version": "1.5.0",
            "_view_name": "HBoxView",
            "box_style": "",
            "children": [
              "IPY_MODEL_473e2c7cc0924e93abf51e3a8ee4d83d",
              "IPY_MODEL_30d5da38382448e2933c6670faf4025f",
              "IPY_MODEL_5cb84a2a48564c2f8815b51bfe7e3220"
            ],
            "layout": "IPY_MODEL_08719057377844e7aa603f7bd4a27a45"
          }
        },
        "473e2c7cc0924e93abf51e3a8ee4d83d": {
          "model_module": "@jupyter-widgets/controls",
          "model_name": "HTMLModel",
          "model_module_version": "1.5.0",
          "state": {
            "_dom_classes": [],
            "_model_module": "@jupyter-widgets/controls",
            "_model_module_version": "1.5.0",
            "_model_name": "HTMLModel",
            "_view_count": null,
            "_view_module": "@jupyter-widgets/controls",
            "_view_module_version": "1.5.0",
            "_view_name": "HTMLView",
            "description": "",
            "description_tooltip": null,
            "layout": "IPY_MODEL_73316e865f6b4d19b3f0e73d72475670",
            "placeholder": "​",
            "style": "IPY_MODEL_d5be21711b2640babb32156696294f6f",
            "value": "100%"
          }
        },
        "30d5da38382448e2933c6670faf4025f": {
          "model_module": "@jupyter-widgets/controls",
          "model_name": "FloatProgressModel",
          "model_module_version": "1.5.0",
          "state": {
            "_dom_classes": [],
            "_model_module": "@jupyter-widgets/controls",
            "_model_module_version": "1.5.0",
            "_model_name": "FloatProgressModel",
            "_view_count": null,
            "_view_module": "@jupyter-widgets/controls",
            "_view_module_version": "1.5.0",
            "_view_name": "ProgressView",
            "bar_style": "success",
            "description": "",
            "description_tooltip": null,
            "layout": "IPY_MODEL_f94d54af875d44e2907027a1109fbbdd",
            "max": 13,
            "min": 0,
            "orientation": "horizontal",
            "style": "IPY_MODEL_94e500b324634e6c84577ddc345a209f",
            "value": 13
          }
        },
        "5cb84a2a48564c2f8815b51bfe7e3220": {
          "model_module": "@jupyter-widgets/controls",
          "model_name": "HTMLModel",
          "model_module_version": "1.5.0",
          "state": {
            "_dom_classes": [],
            "_model_module": "@jupyter-widgets/controls",
            "_model_module_version": "1.5.0",
            "_model_name": "HTMLModel",
            "_view_count": null,
            "_view_module": "@jupyter-widgets/controls",
            "_view_module_version": "1.5.0",
            "_view_name": "HTMLView",
            "description": "",
            "description_tooltip": null,
            "layout": "IPY_MODEL_2e763e5849a8405b901b5dfba62ea625",
            "placeholder": "​",
            "style": "IPY_MODEL_b6d300ff49494d76a959e4afa3388781",
            "value": " 13/13 [10:05&lt;00:00, 59.19s/it]"
          }
        },
        "08719057377844e7aa603f7bd4a27a45": {
          "model_module": "@jupyter-widgets/base",
          "model_name": "LayoutModel",
          "model_module_version": "1.2.0",
          "state": {
            "_model_module": "@jupyter-widgets/base",
            "_model_module_version": "1.2.0",
            "_model_name": "LayoutModel",
            "_view_count": null,
            "_view_module": "@jupyter-widgets/base",
            "_view_module_version": "1.2.0",
            "_view_name": "LayoutView",
            "align_content": null,
            "align_items": null,
            "align_self": null,
            "border": null,
            "bottom": null,
            "display": null,
            "flex": null,
            "flex_flow": null,
            "grid_area": null,
            "grid_auto_columns": null,
            "grid_auto_flow": null,
            "grid_auto_rows": null,
            "grid_column": null,
            "grid_gap": null,
            "grid_row": null,
            "grid_template_areas": null,
            "grid_template_columns": null,
            "grid_template_rows": null,
            "height": null,
            "justify_content": null,
            "justify_items": null,
            "left": null,
            "margin": null,
            "max_height": null,
            "max_width": null,
            "min_height": null,
            "min_width": null,
            "object_fit": null,
            "object_position": null,
            "order": null,
            "overflow": null,
            "overflow_x": null,
            "overflow_y": null,
            "padding": null,
            "right": null,
            "top": null,
            "visibility": null,
            "width": null
          }
        },
        "73316e865f6b4d19b3f0e73d72475670": {
          "model_module": "@jupyter-widgets/base",
          "model_name": "LayoutModel",
          "model_module_version": "1.2.0",
          "state": {
            "_model_module": "@jupyter-widgets/base",
            "_model_module_version": "1.2.0",
            "_model_name": "LayoutModel",
            "_view_count": null,
            "_view_module": "@jupyter-widgets/base",
            "_view_module_version": "1.2.0",
            "_view_name": "LayoutView",
            "align_content": null,
            "align_items": null,
            "align_self": null,
            "border": null,
            "bottom": null,
            "display": null,
            "flex": null,
            "flex_flow": null,
            "grid_area": null,
            "grid_auto_columns": null,
            "grid_auto_flow": null,
            "grid_auto_rows": null,
            "grid_column": null,
            "grid_gap": null,
            "grid_row": null,
            "grid_template_areas": null,
            "grid_template_columns": null,
            "grid_template_rows": null,
            "height": null,
            "justify_content": null,
            "justify_items": null,
            "left": null,
            "margin": null,
            "max_height": null,
            "max_width": null,
            "min_height": null,
            "min_width": null,
            "object_fit": null,
            "object_position": null,
            "order": null,
            "overflow": null,
            "overflow_x": null,
            "overflow_y": null,
            "padding": null,
            "right": null,
            "top": null,
            "visibility": null,
            "width": null
          }
        },
        "d5be21711b2640babb32156696294f6f": {
          "model_module": "@jupyter-widgets/controls",
          "model_name": "DescriptionStyleModel",
          "model_module_version": "1.5.0",
          "state": {
            "_model_module": "@jupyter-widgets/controls",
            "_model_module_version": "1.5.0",
            "_model_name": "DescriptionStyleModel",
            "_view_count": null,
            "_view_module": "@jupyter-widgets/base",
            "_view_module_version": "1.2.0",
            "_view_name": "StyleView",
            "description_width": ""
          }
        },
        "f94d54af875d44e2907027a1109fbbdd": {
          "model_module": "@jupyter-widgets/base",
          "model_name": "LayoutModel",
          "model_module_version": "1.2.0",
          "state": {
            "_model_module": "@jupyter-widgets/base",
            "_model_module_version": "1.2.0",
            "_model_name": "LayoutModel",
            "_view_count": null,
            "_view_module": "@jupyter-widgets/base",
            "_view_module_version": "1.2.0",
            "_view_name": "LayoutView",
            "align_content": null,
            "align_items": null,
            "align_self": null,
            "border": null,
            "bottom": null,
            "display": null,
            "flex": null,
            "flex_flow": null,
            "grid_area": null,
            "grid_auto_columns": null,
            "grid_auto_flow": null,
            "grid_auto_rows": null,
            "grid_column": null,
            "grid_gap": null,
            "grid_row": null,
            "grid_template_areas": null,
            "grid_template_columns": null,
            "grid_template_rows": null,
            "height": null,
            "justify_content": null,
            "justify_items": null,
            "left": null,
            "margin": null,
            "max_height": null,
            "max_width": null,
            "min_height": null,
            "min_width": null,
            "object_fit": null,
            "object_position": null,
            "order": null,
            "overflow": null,
            "overflow_x": null,
            "overflow_y": null,
            "padding": null,
            "right": null,
            "top": null,
            "visibility": null,
            "width": null
          }
        },
        "94e500b324634e6c84577ddc345a209f": {
          "model_module": "@jupyter-widgets/controls",
          "model_name": "ProgressStyleModel",
          "model_module_version": "1.5.0",
          "state": {
            "_model_module": "@jupyter-widgets/controls",
            "_model_module_version": "1.5.0",
            "_model_name": "ProgressStyleModel",
            "_view_count": null,
            "_view_module": "@jupyter-widgets/base",
            "_view_module_version": "1.2.0",
            "_view_name": "StyleView",
            "bar_color": null,
            "description_width": ""
          }
        },
        "2e763e5849a8405b901b5dfba62ea625": {
          "model_module": "@jupyter-widgets/base",
          "model_name": "LayoutModel",
          "model_module_version": "1.2.0",
          "state": {
            "_model_module": "@jupyter-widgets/base",
            "_model_module_version": "1.2.0",
            "_model_name": "LayoutModel",
            "_view_count": null,
            "_view_module": "@jupyter-widgets/base",
            "_view_module_version": "1.2.0",
            "_view_name": "LayoutView",
            "align_content": null,
            "align_items": null,
            "align_self": null,
            "border": null,
            "bottom": null,
            "display": null,
            "flex": null,
            "flex_flow": null,
            "grid_area": null,
            "grid_auto_columns": null,
            "grid_auto_flow": null,
            "grid_auto_rows": null,
            "grid_column": null,
            "grid_gap": null,
            "grid_row": null,
            "grid_template_areas": null,
            "grid_template_columns": null,
            "grid_template_rows": null,
            "height": null,
            "justify_content": null,
            "justify_items": null,
            "left": null,
            "margin": null,
            "max_height": null,
            "max_width": null,
            "min_height": null,
            "min_width": null,
            "object_fit": null,
            "object_position": null,
            "order": null,
            "overflow": null,
            "overflow_x": null,
            "overflow_y": null,
            "padding": null,
            "right": null,
            "top": null,
            "visibility": null,
            "width": null
          }
        },
        "b6d300ff49494d76a959e4afa3388781": {
          "model_module": "@jupyter-widgets/controls",
          "model_name": "DescriptionStyleModel",
          "model_module_version": "1.5.0",
          "state": {
            "_model_module": "@jupyter-widgets/controls",
            "_model_module_version": "1.5.0",
            "_model_name": "DescriptionStyleModel",
            "_view_count": null,
            "_view_module": "@jupyter-widgets/base",
            "_view_module_version": "1.2.0",
            "_view_name": "StyleView",
            "description_width": ""
          }
        }
      }
    }
  },
  "cells": [
    {
      "cell_type": "markdown",
      "metadata": {
        "id": "view-in-github",
        "colab_type": "text"
      },
      "source": [
        "<a href=\"https://colab.research.google.com/github/FahmidaNourin/Light_Sleep_And_Deep_Sleep_Classification/blob/main/Feature_Selection.ipynb\" target=\"_parent\"><img src=\"https://colab.research.google.com/assets/colab-badge.svg\" alt=\"Open In Colab\"/></a>"
      ]
    },
    {
      "cell_type": "markdown",
      "source": [
        "#connecting with drive"
      ],
      "metadata": {
        "id": "a9eWOMrt9NCf"
      }
    },
    {
      "cell_type": "code",
      "source": [
        "from google.colab import drive\n",
        "drive.mount('/content/drive')"
      ],
      "metadata": {
        "id": "gg_-1xQhkeLV",
        "outputId": "f0c95ed1-eadb-4edd-d0f1-56522a0feb7d",
        "colab": {
          "base_uri": "https://localhost:8080/"
        }
      },
      "execution_count": 69,
      "outputs": [
        {
          "output_type": "stream",
          "name": "stdout",
          "text": [
            "Drive already mounted at /content/drive; to attempt to forcibly remount, call drive.mount(\"/content/drive\", force_remount=True).\n"
          ]
        }
      ]
    },
    {
      "cell_type": "code",
      "source": [
        "import numpy as np\n",
        "import pandas as pd\n",
        "!pip install imbalanced-learn\n",
        "from imblearn.over_sampling import SMOTE\n",
        "from sklearn.preprocessing import StandardScaler\n",
        "from sklearn.model_selection import train_test_split\n",
        "from sklearn.ensemble import RandomForestClassifier\n",
        "from sklearn.metrics import accuracy_score\n",
        "from tqdm.notebook import tqdm\n",
        "\n",
        "df = pd.read_csv(\"/content/drive/MyDrive/Sleep_Research/draft/HMC_Sleep_Stages.csv\")"
      ],
      "metadata": {
        "id": "q44vYeB9m-Ja",
        "colab": {
          "base_uri": "https://localhost:8080/"
        },
        "outputId": "59e3d8f8-9055-47d9-fa97-3b8d8cf451dd"
      },
      "execution_count": 70,
      "outputs": [
        {
          "output_type": "stream",
          "name": "stdout",
          "text": [
            "Requirement already satisfied: imbalanced-learn in /usr/local/lib/python3.10/dist-packages (0.10.1)\n",
            "Requirement already satisfied: numpy>=1.17.3 in /usr/local/lib/python3.10/dist-packages (from imbalanced-learn) (1.23.5)\n",
            "Requirement already satisfied: scipy>=1.3.2 in /usr/local/lib/python3.10/dist-packages (from imbalanced-learn) (1.11.3)\n",
            "Requirement already satisfied: scikit-learn>=1.0.2 in /usr/local/lib/python3.10/dist-packages (from imbalanced-learn) (1.2.2)\n",
            "Requirement already satisfied: joblib>=1.1.1 in /usr/local/lib/python3.10/dist-packages (from imbalanced-learn) (1.3.2)\n",
            "Requirement already satisfied: threadpoolctl>=2.0.0 in /usr/local/lib/python3.10/dist-packages (from imbalanced-learn) (3.2.0)\n"
          ]
        }
      ]
    },
    {
      "cell_type": "code",
      "source": [
        "df =df.replace(\"N1\", \"Light_Sleep\")\n",
        "df =df.replace(\"N2\", \"Light_Sleep\")\n",
        "df =df.replace(\"N3\", \"Deep_Sleep\")\n",
        "df.drop(df.index[df['Sleep_Stage'] == \"R\"], inplace = True)\n",
        "df.drop(df.index[df['Sleep_Stage'] == \"W\"], inplace = True)\n"
      ],
      "metadata": {
        "id": "AxYfzoTHtcfq"
      },
      "execution_count": 71,
      "outputs": []
    },
    {
      "cell_type": "code",
      "source": [
        "df.head()"
      ],
      "metadata": {
        "colab": {
          "base_uri": "https://localhost:8080/",
          "height": 255
        },
        "id": "07FwVREcCwSh",
        "outputId": "b8576987-b173-4f1f-caea-f50302437c7d"
      },
      "execution_count": 72,
      "outputs": [
        {
          "output_type": "execute_result",
          "data": {
            "text/plain": [
              "  Subject  Sleep_Stage  Epoch  MeanP_Alpha_F4  MedianF_Alpha_F4  \\\n",
              "0   SN002  Light_Sleep      6         0.00034          10.11512   \n",
              "1   SN002  Light_Sleep      7         0.00035          10.73951   \n",
              "2   SN002  Light_Sleep      8         0.00035           9.36585   \n",
              "3   SN002  Light_Sleep    116         0.00054           9.74049   \n",
              "4   SN002  Light_Sleep    117         0.00034          10.11512   \n",
              "\n",
              "   MeanF_Alpha_F4  SpectralEdge_Alpha_F4  PeakF_Alpha_F4  MeanP_Beta_F4  \\\n",
              "0        17.85756               17.48293        10.24000        0.00047   \n",
              "1        17.60780               17.10829         9.11610        0.00048   \n",
              "2        17.60780               16.98341         9.24098        0.00042   \n",
              "3        15.98439               15.48488         8.36683        0.00051   \n",
              "4        16.48390               15.98439        12.23805        0.00034   \n",
              "\n",
              "   MedianF_Beta_F4  ...  MeanP_Delta_O2  MedianF_Delta_O2  MeanF_Delta_O2  \\\n",
              "0         17.73268  ...         0.00112           0.74927         6.36878   \n",
              "1         16.85854  ...         0.00070           0.99902         6.86829   \n",
              "2         17.35805  ...         0.00077           1.49854         6.49366   \n",
              "3         14.61073  ...         0.00082           0.87415         7.49268   \n",
              "4         15.11024  ...         0.00084           0.87415         6.86829   \n",
              "\n",
              "   SpectralEdge_Delta_O2  PeakF_Delta_O2  MeanP_Gamma_O2  MedianF_Gamma_O2  \\\n",
              "0                2.87220         0.62439        0.000076          32.71805   \n",
              "1                3.62146         0.74927        0.000072          32.09366   \n",
              "2                4.12098         0.74927        0.000069          33.09268   \n",
              "3                3.49659         0.87415        0.000039          28.34732   \n",
              "4                2.87220         0.62439        0.000032          28.97171   \n",
              "\n",
              "   MeanF_Gamma_O2  SpectralEdge_Gamma_O2  PeakF_Gamma_O2  \n",
              "0        43.83220               49.95122        49.95122  \n",
              "1        44.33171               49.95122        49.95122  \n",
              "2        43.95707               49.95122        49.95122  \n",
              "3        43.08293               49.95122        49.95122  \n",
              "4        43.20780               49.95122        49.95122  \n",
              "\n",
              "[5 rows x 78 columns]"
            ],
            "text/html": [
              "\n",
              "  <div id=\"df-fa59c02f-adcd-4004-86d9-6b27b4d4fc67\" class=\"colab-df-container\">\n",
              "    <div>\n",
              "<style scoped>\n",
              "    .dataframe tbody tr th:only-of-type {\n",
              "        vertical-align: middle;\n",
              "    }\n",
              "\n",
              "    .dataframe tbody tr th {\n",
              "        vertical-align: top;\n",
              "    }\n",
              "\n",
              "    .dataframe thead th {\n",
              "        text-align: right;\n",
              "    }\n",
              "</style>\n",
              "<table border=\"1\" class=\"dataframe\">\n",
              "  <thead>\n",
              "    <tr style=\"text-align: right;\">\n",
              "      <th></th>\n",
              "      <th>Subject</th>\n",
              "      <th>Sleep_Stage</th>\n",
              "      <th>Epoch</th>\n",
              "      <th>MeanP_Alpha_F4</th>\n",
              "      <th>MedianF_Alpha_F4</th>\n",
              "      <th>MeanF_Alpha_F4</th>\n",
              "      <th>SpectralEdge_Alpha_F4</th>\n",
              "      <th>PeakF_Alpha_F4</th>\n",
              "      <th>MeanP_Beta_F4</th>\n",
              "      <th>MedianF_Beta_F4</th>\n",
              "      <th>...</th>\n",
              "      <th>MeanP_Delta_O2</th>\n",
              "      <th>MedianF_Delta_O2</th>\n",
              "      <th>MeanF_Delta_O2</th>\n",
              "      <th>SpectralEdge_Delta_O2</th>\n",
              "      <th>PeakF_Delta_O2</th>\n",
              "      <th>MeanP_Gamma_O2</th>\n",
              "      <th>MedianF_Gamma_O2</th>\n",
              "      <th>MeanF_Gamma_O2</th>\n",
              "      <th>SpectralEdge_Gamma_O2</th>\n",
              "      <th>PeakF_Gamma_O2</th>\n",
              "    </tr>\n",
              "  </thead>\n",
              "  <tbody>\n",
              "    <tr>\n",
              "      <th>0</th>\n",
              "      <td>SN002</td>\n",
              "      <td>Light_Sleep</td>\n",
              "      <td>6</td>\n",
              "      <td>0.00034</td>\n",
              "      <td>10.11512</td>\n",
              "      <td>17.85756</td>\n",
              "      <td>17.48293</td>\n",
              "      <td>10.24000</td>\n",
              "      <td>0.00047</td>\n",
              "      <td>17.73268</td>\n",
              "      <td>...</td>\n",
              "      <td>0.00112</td>\n",
              "      <td>0.74927</td>\n",
              "      <td>6.36878</td>\n",
              "      <td>2.87220</td>\n",
              "      <td>0.62439</td>\n",
              "      <td>0.000076</td>\n",
              "      <td>32.71805</td>\n",
              "      <td>43.83220</td>\n",
              "      <td>49.95122</td>\n",
              "      <td>49.95122</td>\n",
              "    </tr>\n",
              "    <tr>\n",
              "      <th>1</th>\n",
              "      <td>SN002</td>\n",
              "      <td>Light_Sleep</td>\n",
              "      <td>7</td>\n",
              "      <td>0.00035</td>\n",
              "      <td>10.73951</td>\n",
              "      <td>17.60780</td>\n",
              "      <td>17.10829</td>\n",
              "      <td>9.11610</td>\n",
              "      <td>0.00048</td>\n",
              "      <td>16.85854</td>\n",
              "      <td>...</td>\n",
              "      <td>0.00070</td>\n",
              "      <td>0.99902</td>\n",
              "      <td>6.86829</td>\n",
              "      <td>3.62146</td>\n",
              "      <td>0.74927</td>\n",
              "      <td>0.000072</td>\n",
              "      <td>32.09366</td>\n",
              "      <td>44.33171</td>\n",
              "      <td>49.95122</td>\n",
              "      <td>49.95122</td>\n",
              "    </tr>\n",
              "    <tr>\n",
              "      <th>2</th>\n",
              "      <td>SN002</td>\n",
              "      <td>Light_Sleep</td>\n",
              "      <td>8</td>\n",
              "      <td>0.00035</td>\n",
              "      <td>9.36585</td>\n",
              "      <td>17.60780</td>\n",
              "      <td>16.98341</td>\n",
              "      <td>9.24098</td>\n",
              "      <td>0.00042</td>\n",
              "      <td>17.35805</td>\n",
              "      <td>...</td>\n",
              "      <td>0.00077</td>\n",
              "      <td>1.49854</td>\n",
              "      <td>6.49366</td>\n",
              "      <td>4.12098</td>\n",
              "      <td>0.74927</td>\n",
              "      <td>0.000069</td>\n",
              "      <td>33.09268</td>\n",
              "      <td>43.95707</td>\n",
              "      <td>49.95122</td>\n",
              "      <td>49.95122</td>\n",
              "    </tr>\n",
              "    <tr>\n",
              "      <th>3</th>\n",
              "      <td>SN002</td>\n",
              "      <td>Light_Sleep</td>\n",
              "      <td>116</td>\n",
              "      <td>0.00054</td>\n",
              "      <td>9.74049</td>\n",
              "      <td>15.98439</td>\n",
              "      <td>15.48488</td>\n",
              "      <td>8.36683</td>\n",
              "      <td>0.00051</td>\n",
              "      <td>14.61073</td>\n",
              "      <td>...</td>\n",
              "      <td>0.00082</td>\n",
              "      <td>0.87415</td>\n",
              "      <td>7.49268</td>\n",
              "      <td>3.49659</td>\n",
              "      <td>0.87415</td>\n",
              "      <td>0.000039</td>\n",
              "      <td>28.34732</td>\n",
              "      <td>43.08293</td>\n",
              "      <td>49.95122</td>\n",
              "      <td>49.95122</td>\n",
              "    </tr>\n",
              "    <tr>\n",
              "      <th>4</th>\n",
              "      <td>SN002</td>\n",
              "      <td>Light_Sleep</td>\n",
              "      <td>117</td>\n",
              "      <td>0.00034</td>\n",
              "      <td>10.11512</td>\n",
              "      <td>16.48390</td>\n",
              "      <td>15.98439</td>\n",
              "      <td>12.23805</td>\n",
              "      <td>0.00034</td>\n",
              "      <td>15.11024</td>\n",
              "      <td>...</td>\n",
              "      <td>0.00084</td>\n",
              "      <td>0.87415</td>\n",
              "      <td>6.86829</td>\n",
              "      <td>2.87220</td>\n",
              "      <td>0.62439</td>\n",
              "      <td>0.000032</td>\n",
              "      <td>28.97171</td>\n",
              "      <td>43.20780</td>\n",
              "      <td>49.95122</td>\n",
              "      <td>49.95122</td>\n",
              "    </tr>\n",
              "  </tbody>\n",
              "</table>\n",
              "<p>5 rows × 78 columns</p>\n",
              "</div>\n",
              "    <div class=\"colab-df-buttons\">\n",
              "\n",
              "  <div class=\"colab-df-container\">\n",
              "    <button class=\"colab-df-convert\" onclick=\"convertToInteractive('df-fa59c02f-adcd-4004-86d9-6b27b4d4fc67')\"\n",
              "            title=\"Convert this dataframe to an interactive table.\"\n",
              "            style=\"display:none;\">\n",
              "\n",
              "  <svg xmlns=\"http://www.w3.org/2000/svg\" height=\"24px\" viewBox=\"0 -960 960 960\">\n",
              "    <path d=\"M120-120v-720h720v720H120Zm60-500h600v-160H180v160Zm220 220h160v-160H400v160Zm0 220h160v-160H400v160ZM180-400h160v-160H180v160Zm440 0h160v-160H620v160ZM180-180h160v-160H180v160Zm440 0h160v-160H620v160Z\"/>\n",
              "  </svg>\n",
              "    </button>\n",
              "\n",
              "  <style>\n",
              "    .colab-df-container {\n",
              "      display:flex;\n",
              "      gap: 12px;\n",
              "    }\n",
              "\n",
              "    .colab-df-convert {\n",
              "      background-color: #E8F0FE;\n",
              "      border: none;\n",
              "      border-radius: 50%;\n",
              "      cursor: pointer;\n",
              "      display: none;\n",
              "      fill: #1967D2;\n",
              "      height: 32px;\n",
              "      padding: 0 0 0 0;\n",
              "      width: 32px;\n",
              "    }\n",
              "\n",
              "    .colab-df-convert:hover {\n",
              "      background-color: #E2EBFA;\n",
              "      box-shadow: 0px 1px 2px rgba(60, 64, 67, 0.3), 0px 1px 3px 1px rgba(60, 64, 67, 0.15);\n",
              "      fill: #174EA6;\n",
              "    }\n",
              "\n",
              "    .colab-df-buttons div {\n",
              "      margin-bottom: 4px;\n",
              "    }\n",
              "\n",
              "    [theme=dark] .colab-df-convert {\n",
              "      background-color: #3B4455;\n",
              "      fill: #D2E3FC;\n",
              "    }\n",
              "\n",
              "    [theme=dark] .colab-df-convert:hover {\n",
              "      background-color: #434B5C;\n",
              "      box-shadow: 0px 1px 3px 1px rgba(0, 0, 0, 0.15);\n",
              "      filter: drop-shadow(0px 1px 2px rgba(0, 0, 0, 0.3));\n",
              "      fill: #FFFFFF;\n",
              "    }\n",
              "  </style>\n",
              "\n",
              "    <script>\n",
              "      const buttonEl =\n",
              "        document.querySelector('#df-fa59c02f-adcd-4004-86d9-6b27b4d4fc67 button.colab-df-convert');\n",
              "      buttonEl.style.display =\n",
              "        google.colab.kernel.accessAllowed ? 'block' : 'none';\n",
              "\n",
              "      async function convertToInteractive(key) {\n",
              "        const element = document.querySelector('#df-fa59c02f-adcd-4004-86d9-6b27b4d4fc67');\n",
              "        const dataTable =\n",
              "          await google.colab.kernel.invokeFunction('convertToInteractive',\n",
              "                                                    [key], {});\n",
              "        if (!dataTable) return;\n",
              "\n",
              "        const docLinkHtml = 'Like what you see? Visit the ' +\n",
              "          '<a target=\"_blank\" href=https://colab.research.google.com/notebooks/data_table.ipynb>data table notebook</a>'\n",
              "          + ' to learn more about interactive tables.';\n",
              "        element.innerHTML = '';\n",
              "        dataTable['output_type'] = 'display_data';\n",
              "        await google.colab.output.renderOutput(dataTable, element);\n",
              "        const docLink = document.createElement('div');\n",
              "        docLink.innerHTML = docLinkHtml;\n",
              "        element.appendChild(docLink);\n",
              "      }\n",
              "    </script>\n",
              "  </div>\n",
              "\n",
              "\n",
              "<div id=\"df-b4796fe4-9caa-4c8c-98d4-a39dd1f30918\">\n",
              "  <button class=\"colab-df-quickchart\" onclick=\"quickchart('df-b4796fe4-9caa-4c8c-98d4-a39dd1f30918')\"\n",
              "            title=\"Suggest charts.\"\n",
              "            style=\"display:none;\">\n",
              "\n",
              "<svg xmlns=\"http://www.w3.org/2000/svg\" height=\"24px\"viewBox=\"0 0 24 24\"\n",
              "     width=\"24px\">\n",
              "    <g>\n",
              "        <path d=\"M19 3H5c-1.1 0-2 .9-2 2v14c0 1.1.9 2 2 2h14c1.1 0 2-.9 2-2V5c0-1.1-.9-2-2-2zM9 17H7v-7h2v7zm4 0h-2V7h2v10zm4 0h-2v-4h2v4z\"/>\n",
              "    </g>\n",
              "</svg>\n",
              "  </button>\n",
              "\n",
              "<style>\n",
              "  .colab-df-quickchart {\n",
              "      --bg-color: #E8F0FE;\n",
              "      --fill-color: #1967D2;\n",
              "      --hover-bg-color: #E2EBFA;\n",
              "      --hover-fill-color: #174EA6;\n",
              "      --disabled-fill-color: #AAA;\n",
              "      --disabled-bg-color: #DDD;\n",
              "  }\n",
              "\n",
              "  [theme=dark] .colab-df-quickchart {\n",
              "      --bg-color: #3B4455;\n",
              "      --fill-color: #D2E3FC;\n",
              "      --hover-bg-color: #434B5C;\n",
              "      --hover-fill-color: #FFFFFF;\n",
              "      --disabled-bg-color: #3B4455;\n",
              "      --disabled-fill-color: #666;\n",
              "  }\n",
              "\n",
              "  .colab-df-quickchart {\n",
              "    background-color: var(--bg-color);\n",
              "    border: none;\n",
              "    border-radius: 50%;\n",
              "    cursor: pointer;\n",
              "    display: none;\n",
              "    fill: var(--fill-color);\n",
              "    height: 32px;\n",
              "    padding: 0;\n",
              "    width: 32px;\n",
              "  }\n",
              "\n",
              "  .colab-df-quickchart:hover {\n",
              "    background-color: var(--hover-bg-color);\n",
              "    box-shadow: 0 1px 2px rgba(60, 64, 67, 0.3), 0 1px 3px 1px rgba(60, 64, 67, 0.15);\n",
              "    fill: var(--button-hover-fill-color);\n",
              "  }\n",
              "\n",
              "  .colab-df-quickchart-complete:disabled,\n",
              "  .colab-df-quickchart-complete:disabled:hover {\n",
              "    background-color: var(--disabled-bg-color);\n",
              "    fill: var(--disabled-fill-color);\n",
              "    box-shadow: none;\n",
              "  }\n",
              "\n",
              "  .colab-df-spinner {\n",
              "    border: 2px solid var(--fill-color);\n",
              "    border-color: transparent;\n",
              "    border-bottom-color: var(--fill-color);\n",
              "    animation:\n",
              "      spin 1s steps(1) infinite;\n",
              "  }\n",
              "\n",
              "  @keyframes spin {\n",
              "    0% {\n",
              "      border-color: transparent;\n",
              "      border-bottom-color: var(--fill-color);\n",
              "      border-left-color: var(--fill-color);\n",
              "    }\n",
              "    20% {\n",
              "      border-color: transparent;\n",
              "      border-left-color: var(--fill-color);\n",
              "      border-top-color: var(--fill-color);\n",
              "    }\n",
              "    30% {\n",
              "      border-color: transparent;\n",
              "      border-left-color: var(--fill-color);\n",
              "      border-top-color: var(--fill-color);\n",
              "      border-right-color: var(--fill-color);\n",
              "    }\n",
              "    40% {\n",
              "      border-color: transparent;\n",
              "      border-right-color: var(--fill-color);\n",
              "      border-top-color: var(--fill-color);\n",
              "    }\n",
              "    60% {\n",
              "      border-color: transparent;\n",
              "      border-right-color: var(--fill-color);\n",
              "    }\n",
              "    80% {\n",
              "      border-color: transparent;\n",
              "      border-right-color: var(--fill-color);\n",
              "      border-bottom-color: var(--fill-color);\n",
              "    }\n",
              "    90% {\n",
              "      border-color: transparent;\n",
              "      border-bottom-color: var(--fill-color);\n",
              "    }\n",
              "  }\n",
              "</style>\n",
              "\n",
              "  <script>\n",
              "    async function quickchart(key) {\n",
              "      const quickchartButtonEl =\n",
              "        document.querySelector('#' + key + ' button');\n",
              "      quickchartButtonEl.disabled = true;  // To prevent multiple clicks.\n",
              "      quickchartButtonEl.classList.add('colab-df-spinner');\n",
              "      try {\n",
              "        const charts = await google.colab.kernel.invokeFunction(\n",
              "            'suggestCharts', [key], {});\n",
              "      } catch (error) {\n",
              "        console.error('Error during call to suggestCharts:', error);\n",
              "      }\n",
              "      quickchartButtonEl.classList.remove('colab-df-spinner');\n",
              "      quickchartButtonEl.classList.add('colab-df-quickchart-complete');\n",
              "    }\n",
              "    (() => {\n",
              "      let quickchartButtonEl =\n",
              "        document.querySelector('#df-b4796fe4-9caa-4c8c-98d4-a39dd1f30918 button');\n",
              "      quickchartButtonEl.style.display =\n",
              "        google.colab.kernel.accessAllowed ? 'block' : 'none';\n",
              "    })();\n",
              "  </script>\n",
              "</div>\n",
              "    </div>\n",
              "  </div>\n"
            ]
          },
          "metadata": {},
          "execution_count": 72
        }
      ]
    },
    {
      "cell_type": "code",
      "source": [
        "df.shape"
      ],
      "metadata": {
        "id": "UBNzWkPZ3DLx",
        "outputId": "3f383f01-223f-4e1e-f202-96ba6c45c56b",
        "colab": {
          "base_uri": "https://localhost:8080/"
        }
      },
      "execution_count": 73,
      "outputs": [
        {
          "output_type": "execute_result",
          "data": {
            "text/plain": [
              "(72631, 78)"
            ]
          },
          "metadata": {},
          "execution_count": 73
        }
      ]
    },
    {
      "cell_type": "code",
      "source": [
        "df = df.loc[:,df.columns != \"Subject\"]\n",
        "df = df.loc[:,df.columns != \"Epoch\"]\n"
      ],
      "metadata": {
        "id": "IrJ_ODvZmGgL"
      },
      "execution_count": 74,
      "outputs": []
    },
    {
      "cell_type": "code",
      "source": [
        "df.shape"
      ],
      "metadata": {
        "id": "_oZ72300B_Cn",
        "outputId": "a44bad18-a833-49e5-8e57-449697f33478",
        "colab": {
          "base_uri": "https://localhost:8080/"
        }
      },
      "execution_count": 75,
      "outputs": [
        {
          "output_type": "execute_result",
          "data": {
            "text/plain": [
              "(72631, 76)"
            ]
          },
          "metadata": {},
          "execution_count": 75
        }
      ]
    },
    {
      "cell_type": "code",
      "source": [
        "target=\"Sleep_Stage\""
      ],
      "metadata": {
        "id": "hltzPzJVzTAS"
      },
      "execution_count": 76,
      "outputs": []
    },
    {
      "cell_type": "code",
      "source": [
        "from sklearn.preprocessing import LabelEncoder\n",
        "encd = LabelEncoder()\n",
        "df[target] = encd.fit_transform(df[target])"
      ],
      "metadata": {
        "id": "agq5Zi1Y3TNh"
      },
      "execution_count": 77,
      "outputs": []
    },
    {
      "cell_type": "code",
      "source": [
        "df[target].value_counts()"
      ],
      "metadata": {
        "colab": {
          "base_uri": "https://localhost:8080/"
        },
        "id": "GgpmU0Xu3gHB",
        "outputId": "150c26ea-4a25-489e-874a-afe507ae04c1"
      },
      "execution_count": 78,
      "outputs": [
        {
          "output_type": "execute_result",
          "data": {
            "text/plain": [
              "1    51341\n",
              "0    21290\n",
              "Name: Sleep_Stage, dtype: int64"
            ]
          },
          "metadata": {},
          "execution_count": 78
        }
      ]
    },
    {
      "cell_type": "code",
      "source": [
        "from scipy.stats import pearson3\n",
        "X = df.loc[:,df.columns != target]\n",
        "\n",
        "y = df[target]\n",
        "\n",
        "\n"
      ],
      "metadata": {
        "id": "4o5AKAohLEvV"
      },
      "execution_count": 79,
      "outputs": []
    },
    {
      "cell_type": "markdown",
      "source": [
        "#Feature Selection: ANOVA"
      ],
      "metadata": {
        "id": "XD8paKCA-GPM"
      }
    },
    {
      "cell_type": "code",
      "source": [
        "\n",
        "from sklearn.datasets import make_classification\n",
        "from sklearn.feature_selection import SelectKBest\n",
        "from sklearn.feature_selection import f_classif\n",
        "import pandas as pd\n",
        "\n",
        "\n",
        "def anova(X,y,num_of_feat):\n",
        "  fs = SelectKBest(score_func=f_classif, k=5)\n",
        "  fit = fs.fit(X,y)\n",
        "  dfscores = pd.DataFrame(fit.scores_)\n",
        "  dfcolumns = pd.DataFrame(X.columns)\n",
        "\n",
        "  featureScores = pd.concat([dfcolumns,dfscores],axis=1)\n",
        "\n",
        "  featureScores.columns = ['Best_columns','Score_ANOVA']\n",
        "\n",
        "  lyst = featureScores.nlargest(num_of_feat,'Score_ANOVA')\n",
        "  ANOVA_feature=list(lyst['Best_columns'])\n",
        "  return ANOVA_feature\n"
      ],
      "metadata": {
        "id": "NihjvJHg-D7U"
      },
      "execution_count": 80,
      "outputs": []
    },
    {
      "cell_type": "markdown",
      "source": [
        "#Pearson’s"
      ],
      "metadata": {
        "id": "LRzuz5JvQIAR"
      }
    },
    {
      "cell_type": "code",
      "source": [
        "\n",
        "from sklearn.datasets import make_regression\n",
        "from sklearn.feature_selection import SelectKBest\n",
        "from sklearn.feature_selection import f_regression\n",
        "\n",
        "\n",
        "def pearson(X,y,num_of_feat):\n",
        "  fs = SelectKBest(score_func=f_regression, k=5)\n",
        "  fit = fs.fit(X,y)\n",
        "\n",
        "  #create df for scores\n",
        "  dfscores = pd.DataFrame(fit.scores_)\n",
        "  #create df for column names\n",
        "  dfcolumns = pd.DataFrame(df.columns)\n",
        "  #concat two dataframes for better visualization\n",
        "  featureScores = pd.concat([dfcolumns,dfscores],axis=1)\n",
        "  #naming the dataframe columns\n",
        "  featureScores.columns = ['Best_columns','Score_pearsons']\n",
        "\n",
        "  #print 10 best features\n",
        "  lyst = featureScores.nlargest(num_of_feat,'Score_pearsons')\n",
        "\n",
        "  PEARSON_feature=list(lyst['Best_columns'])\n",
        "  return PEARSON_feature\n"
      ],
      "metadata": {
        "id": "e1Aa-m9pQF8j"
      },
      "execution_count": 81,
      "outputs": []
    },
    {
      "cell_type": "markdown",
      "source": [
        "#Univarient Feature Selection"
      ],
      "metadata": {
        "id": "ZGdFgdcRNb9m"
      }
    },
    {
      "cell_type": "code",
      "source": [
        "from sklearn.feature_selection import SelectKBest\n",
        "from sklearn.feature_selection import chi2\n",
        "\n",
        "def u_f(X,y,num_of_feat):\n",
        "  bestfeatures = SelectKBest(score_func=chi2, k=10)\n",
        "  fit = bestfeatures.fit(X,y)\n",
        "\n",
        "  dfscores = pd.DataFrame(fit.scores_)\n",
        "  dfcolumns = pd.DataFrame(X.columns)\n",
        "\n",
        "\n",
        "  #concat two dataframes for better visualization\n",
        "  featureScores = pd.concat([dfcolumns,dfscores],axis=1)\n",
        "  featureScores.columns = ['Specs','Score']  #naming the dataframe columns\n",
        "\n",
        "\n",
        "\n",
        "  sorted_df = featureScores.sort_values(by=['Score'], ascending=False)\n",
        "  Univarient_feature = sorted_df[\"Specs\"][:num_of_feat]\n",
        "  return Univarient_feature"
      ],
      "metadata": {
        "id": "r-xhyGCJLmfl"
      },
      "execution_count": 82,
      "outputs": []
    },
    {
      "cell_type": "markdown",
      "source": [],
      "metadata": {
        "id": "IkTIeFwiMIxk"
      }
    },
    {
      "cell_type": "markdown",
      "source": [
        "#Pearson Method"
      ],
      "metadata": {
        "id": "he0_mRzFMLmm"
      }
    },
    {
      "cell_type": "code",
      "source": [
        "col_number = [10,15,20,25,30,35,40,45,50,55,60,65,70]\n",
        "pear_train_accu = []\n",
        "pear_valid_accu = []\n",
        "pear_test_accu = []\n",
        "\n",
        "\n",
        "for i in tqdm(col_number):\n",
        "\n",
        "  col_name = pearson(df.loc[:,df.columns != target],df[target],i)\n",
        "  X = df.loc[:,col_name]\n",
        "  y = df[target]\n",
        "\n",
        "  scaler = StandardScaler()\n",
        "  scaler.fit(X)\n",
        "  X[X.columns] = scaler.transform(X)\n",
        "\n",
        "  X_train, X_test_val, y_train, y_test_val= train_test_split(X,y, test_size=0.3,random_state=42)\n",
        "  X_test, X_val, y_test, y_val= train_test_split(X_test_val, y_test_val, train_size=.5, random_state=42)\n",
        "\n",
        "  smote = SMOTE()\n",
        "  X_train,y_train = smote.fit_resample(X_train,y_train)\n",
        "\n",
        "  rf = RandomForestClassifier()\n",
        "  rf.fit(X_train, y_train)\n",
        "  y_pred_val = rf.predict(X_val)\n",
        "  y_pred_train = rf.predict(X_train)\n",
        "  y_pred_test = rf.predict(X_test)\n",
        "\n",
        "\n",
        "  tr_accu = accuracy_score(y_train, y_pred_train)\n",
        "  val_accu = accuracy_score(y_val, y_pred_val)\n",
        "  ts_accu = accuracy_score(y_test, y_pred_test)\n",
        "\n",
        "  pear_train_accu.append(tr_accu)\n",
        "  pear_valid_accu.append(val_accu)\n",
        "  pear_test_accu.append(ts_accu)\n",
        "\n",
        "  print(\"-----------------------------------------------------------------------\")\n",
        "  print(\"Number of Features: \",i)\n",
        "  print(\"Training Accurecy: \",tr_accu)\n",
        "  print(\"Validation Accurecy: \",val_accu)\n",
        "  print(\"Testing Accurecy: \",ts_accu)\n",
        "  print(\"-----------------------------------------------------------------------\")\n"
      ],
      "metadata": {
        "id": "JtMsnPa470MH",
        "colab": {
          "base_uri": "https://localhost:8080/"
        },
        "outputId": "b23cea81-c990-4205-80f5-1e6e490cc882"
      },
      "execution_count": 83,
      "outputs": [
        {
          "output_type": "stream",
          "name": "stdout",
          "text": [
            "-----------------------------------------------------------------------\n",
            "Training Accurecy:  0.9942544726078851\n",
            "Validation Accurecy:  0.8456172556218449\n",
            "Testing Accurecy:  0.842312987608995\n",
            "-----------------------------------------------------------------------\n",
            "-----------------------------------------------------------------------\n",
            "Training Accurecy:  0.9941570907876798\n",
            "Validation Accurecy:  0.8875631023405232\n",
            "Testing Accurecy:  0.8858191831115191\n",
            "-----------------------------------------------------------------------\n",
            "-----------------------------------------------------------------------\n",
            "Training Accurecy:  0.9941570907876798\n",
            "Validation Accurecy:  0.8908673703533732\n",
            "Testing Accurecy:  0.8968334098210188\n",
            "-----------------------------------------------------------------------\n",
            "-----------------------------------------------------------------------\n",
            "Training Accurecy:  0.9942822959850867\n",
            "Validation Accurecy:  0.8926112895823772\n",
            "Testing Accurecy:  0.8982101881597063\n",
            "-----------------------------------------------------------------------\n",
            "-----------------------------------------------------------------------\n",
            "Training Accurecy:  0.9942127375420828\n",
            "Validation Accurecy:  0.8948141349242772\n",
            "Testing Accurecy:  0.8976594768242313\n",
            "-----------------------------------------------------------------------\n",
            "-----------------------------------------------------------------------\n",
            "Training Accurecy:  0.9941988258534821\n",
            "Validation Accurecy:  0.8962826984855439\n",
            "Testing Accurecy:  0.9011473152822396\n",
            "-----------------------------------------------------------------------\n",
            "-----------------------------------------------------------------------\n",
            "Training Accurecy:  0.9945327063799004\n",
            "Validation Accurecy:  0.898577329050023\n",
            "Testing Accurecy:  0.9004130335016063\n",
            "-----------------------------------------------------------------------\n",
            "-----------------------------------------------------------------------\n",
            "Training Accurecy:  0.9946022648229043\n",
            "Validation Accurecy:  0.9004130335016063\n",
            "Testing Accurecy:  0.9024323083983479\n",
            "-----------------------------------------------------------------------\n",
            "-----------------------------------------------------------------------\n",
            "Training Accurecy:  0.994324031050889\n",
            "Validation Accurecy:  0.9023405231757687\n",
            "Testing Accurecy:  0.9027076640660854\n",
            "-----------------------------------------------------------------------\n",
            "-----------------------------------------------------------------------\n",
            "Training Accurecy:  0.9941710024762805\n",
            "Validation Accurecy:  0.9000458926112895\n",
            "Testing Accurecy:  0.9016062413951353\n",
            "-----------------------------------------------------------------------\n",
            "-----------------------------------------------------------------------\n",
            "Training Accurecy:  0.9943518544280905\n",
            "Validation Accurecy:  0.9013308857273978\n",
            "Testing Accurecy:  0.9050022946305645\n",
            "-----------------------------------------------------------------------\n",
            "-----------------------------------------------------------------------\n",
            "Training Accurecy:  0.9941710024762805\n",
            "Validation Accurecy:  0.9019733822854521\n",
            "Testing Accurecy:  0.9059201468563561\n",
            "-----------------------------------------------------------------------\n",
            "-----------------------------------------------------------------------\n",
            "Training Accurecy:  0.9941988258534821\n",
            "Validation Accurecy:  0.9026158788435062\n",
            "Testing Accurecy:  0.9076640660853602\n",
            "-----------------------------------------------------------------------\n"
          ]
        }
      ]
    },
    {
      "cell_type": "code",
      "source": [
        "%matplotlib inline\n",
        "import matplotlib.pyplot as plt\n",
        "plt.figure(figsize = (25,10))\n",
        "\n",
        "plt.plot(col_number,pear_train_accu)\n",
        "plt.plot(col_number,pear_valid_accu)\n",
        "plt.plot(col_number,pear_test_accu)\n",
        "\n",
        "plt.xlabel('Number Of Columns')\n",
        "plt.ylabel ('Accuracy')\n",
        "plt.legend([\"Training Accuracy\",\"Validation Accuracy\",\"Testing Accuracy\"], loc=0, frameon=True)"
      ],
      "metadata": {
        "colab": {
          "base_uri": "https://localhost:8080/",
          "height": 413
        },
        "id": "hZ_DiHdLP97s",
        "outputId": "76110a4a-1f08-41d1-9640-512b04ad1354"
      },
      "execution_count": 84,
      "outputs": [
        {
          "output_type": "execute_result",
          "data": {
            "text/plain": [
              "<matplotlib.legend.Legend at 0x79cf77c64790>"
            ]
          },
          "metadata": {},
          "execution_count": 84
        },
        {
          "output_type": "display_data",
          "data": {
            "text/plain": [
              "<Figure size 2500x1000 with 1 Axes>"
            ],
            "image/png": "[encoded data removed]"
          },
          "metadata": {}
        }
      ]
    },
    {
      "cell_type": "code",
      "source": [],
      "metadata": {
        "id": "Xva2Bk8_P4os"
      },
      "execution_count": null,
      "outputs": []
    },
    {
      "cell_type": "markdown",
      "source": [
        "#Univarient Method"
      ],
      "metadata": {
        "id": "8UCvXMaUQrJU"
      }
    },
    {
      "cell_type": "code",
      "source": [
        "col_number = [10,15,20,25,30,35,40,45,50,55,60,65,70]\n",
        "uf_train_accu = []\n",
        "uf_valid_accu = []\n",
        "uf_test_accu = []\n",
        "\n",
        "\n",
        "for i in tqdm(col_number):\n",
        "\n",
        "  col_name = u_f(df.loc[:,df.columns != target],df[target],i)\n",
        "  X = df.loc[:,col_name]\n",
        "  y = df[target]\n",
        "\n",
        "  scaler = StandardScaler()\n",
        "  scaler.fit(X)\n",
        "  X[X.columns] = scaler.transform(X)\n",
        "\n",
        "  X_train, X_test_val, y_train, y_test_val= train_test_split(X,y, test_size=0.3,random_state=42)\n",
        "  X_test, X_val, y_test, y_val= train_test_split(X_test_val, y_test_val, train_size=.5, random_state=42)\n",
        "\n",
        "  smote = SMOTE()\n",
        "  X_train,y_train = smote.fit_resample(X_train,y_train)\n",
        "\n",
        "  rf = RandomForestClassifier()\n",
        "  rf.fit(X_train, y_train)\n",
        "  y_pred_val = rf.predict(X_val)\n",
        "  y_pred_train = rf.predict(X_train)\n",
        "  y_pred_test = rf.predict(X_test)\n",
        "\n",
        "\n",
        "  tr_accu = accuracy_score(y_train, y_pred_train)\n",
        "  val_accu = accuracy_score(y_val, y_pred_val)\n",
        "  ts_accu = accuracy_score(y_test, y_pred_test)\n",
        "\n",
        "  uf_train_accu.append(tr_accu)\n",
        "  uf_valid_accu.append(val_accu)\n",
        "  uf_test_accu.append(ts_accu)\n",
        "\n",
        "  print(\"-----------------------------------------------------------------------\")\n",
        "  print(\"Number of Features: \",i)\n",
        "  print(\"Training Accurecy: \",tr_accu)\n",
        "  print(\"Validation Accurecy: \",val_accu)\n",
        "  print(\"Testing Accurecy: \",ts_accu)\n",
        "  print(\"-----------------------------------------------------------------------\")\n"
      ],
      "metadata": {
        "colab": {
          "base_uri": "https://localhost:8080/",
          "height": 1000,
          "referenced_widgets": [
            "3deb27ce8fda4d3ba7f3033bbb06d838",
            "473e2c7cc0924e93abf51e3a8ee4d83d",
            "30d5da38382448e2933c6670faf4025f",
            "5cb84a2a48564c2f8815b51bfe7e3220",
            "08719057377844e7aa603f7bd4a27a45",
            "73316e865f6b4d19b3f0e73d72475670",
            "d5be21711b2640babb32156696294f6f",
            "f94d54af875d44e2907027a1109fbbdd",
            "94e500b324634e6c84577ddc345a209f",
            "2e763e5849a8405b901b5dfba62ea625",
            "b6d300ff49494d76a959e4afa3388781"
          ]
        },
        "id": "IW7bAWG-QunT",
        "outputId": "6305c641-1440-4bf3-a829-1e771669e66f"
      },
      "execution_count": 85,
      "outputs": [
        {
          "output_type": "display_data",
          "data": {
            "text/plain": [
              "  0%|          | 0/13 [00:00<?, ?it/s]"
            ],
            "application/vnd.jupyter.widget-view+json": {
              "version_major": 2,
              "version_minor": 0,
              "model_id": "3deb27ce8fda4d3ba7f3033bbb06d838"
            }
          },
          "metadata": {}
        },
        {
          "output_type": "stream",
          "name": "stdout",
          "text": [
            "-----------------------------------------------------------------------\n",
            "Number of Features:  10\n",
            "Training Accurecy:  0.9926407167301967\n",
            "Validation Accurecy:  0.8578246902248738\n",
            "Testing Accurecy:  0.853510784763653\n",
            "-----------------------------------------------------------------------\n",
            "-----------------------------------------------------------------------\n",
            "Number of Features:  15\n",
            "Training Accurecy:  0.9940179739016722\n",
            "Validation Accurecy:  0.8728774667278568\n",
            "Testing Accurecy:  0.8721431849472235\n",
            "-----------------------------------------------------------------------\n",
            "-----------------------------------------------------------------------\n",
            "Number of Features:  20\n",
            "Training Accurecy:  0.9944909713140981\n",
            "Validation Accurecy:  0.8791188618632401\n",
            "Testing Accurecy:  0.8791188618632401\n",
            "-----------------------------------------------------------------------\n",
            "-----------------------------------------------------------------------\n",
            "Number of Features:  25\n",
            "Training Accurecy:  0.9946996466431095\n",
            "Validation Accurecy:  0.8818724185406149\n",
            "Testing Accurecy:  0.8837081229921983\n",
            "-----------------------------------------------------------------------\n",
            "-----------------------------------------------------------------------\n",
            "Number of Features:  30\n",
            "Training Accurecy:  0.9943935894938928\n",
            "Validation Accurecy:  0.8800367140890316\n",
            "Testing Accurecy:  0.884717760440569\n",
            "-----------------------------------------------------------------------\n",
            "-----------------------------------------------------------------------\n",
            "Number of Features:  35\n",
            "Training Accurecy:  0.9946857349545087\n",
            "Validation Accurecy:  0.8837081229921983\n",
            "Testing Accurecy:  0.8893988067921065\n",
            "-----------------------------------------------------------------------\n",
            "-----------------------------------------------------------------------\n",
            "Number of Features:  40\n",
            "Training Accurecy:  0.9939762388358699\n",
            "Validation Accurecy:  0.8893070215695273\n",
            "Testing Accurecy:  0.8914180816888481\n",
            "-----------------------------------------------------------------------\n",
            "-----------------------------------------------------------------------\n",
            "Number of Features:  45\n",
            "Training Accurecy:  0.9942544726078851\n",
            "Validation Accurecy:  0.8895823772372649\n",
            "Testing Accurecy:  0.8929784304726939\n",
            "-----------------------------------------------------------------------\n",
            "-----------------------------------------------------------------------\n",
            "Number of Features:  50\n",
            "Training Accurecy:  0.9942962076736874\n",
            "Validation Accurecy:  0.8940798531436439\n",
            "Testing Accurecy:  0.8938962826984855\n",
            "-----------------------------------------------------------------------\n",
            "-----------------------------------------------------------------------\n",
            "Number of Features:  55\n",
            "Training Accurecy:  0.9943101193622882\n",
            "Validation Accurecy:  0.8949977053694356\n",
            "Testing Accurecy:  0.9001376778338688\n",
            "-----------------------------------------------------------------------\n",
            "-----------------------------------------------------------------------\n",
            "Number of Features:  60\n",
            "Training Accurecy:  0.9938092985726608\n",
            "Validation Accurecy:  0.8998623221661313\n",
            "Testing Accurecy:  0.9018815970628729\n",
            "-----------------------------------------------------------------------\n",
            "-----------------------------------------------------------------------\n",
            "Number of Features:  65\n",
            "Training Accurecy:  0.9944631479368966\n",
            "Validation Accurecy:  0.904726938962827\n",
            "Testing Accurecy:  0.905277650298302\n",
            "-----------------------------------------------------------------------\n",
            "-----------------------------------------------------------------------\n",
            "Number of Features:  70\n",
            "Training Accurecy:  0.9943379427394897\n",
            "Validation Accurecy:  0.9061037173015145\n",
            "Testing Accurecy:  0.9100504818724185\n",
            "-----------------------------------------------------------------------\n"
          ]
        }
      ]
    },
    {
      "cell_type": "code",
      "source": [
        "%matplotlib inline\n",
        "import matplotlib.pyplot as plt\n",
        "plt.figure(figsize = (25,10))\n",
        "\n",
        "plt.plot(col_number,uf_train_accu)\n",
        "plt.plot(col_number,uf_valid_accu)\n",
        "plt.plot(col_number,uf_test_accu)\n",
        "\n",
        "plt.xlabel('Number Of Columns')\n",
        "plt.ylabel ('Accuracy')\n",
        "plt.legend([\"Training Accuracy\",\"Validation Accuracy\",\"Testing Accuracy\"], loc=0, frameon=True)"
      ],
      "metadata": {
        "colab": {
          "base_uri": "https://localhost:8080/",
          "height": 413
        },
        "id": "HsyWWB4cRPaL",
        "outputId": "fd5f1093-87d4-4804-d967-6793ed67cda3"
      },
      "execution_count": 86,
      "outputs": [
        {
          "output_type": "execute_result",
          "data": {
            "text/plain": [
              "<matplotlib.legend.Legend at 0x79cf77c45510>"
            ]
          },
          "metadata": {},
          "execution_count": 86
        },
        {
          "output_type": "display_data",
          "data": {
            "text/plain": [
              "<Figure size 2500x1000 with 1 Axes>"
            ],
            "image/png": "[encoded data removed]"
          },
          "metadata": {}
        }
      ]
    },
    {
      "cell_type": "code",
      "source": [],
      "metadata": {
        "id": "F1xAUP0MWHDj"
      },
      "execution_count": null,
      "outputs": []
    }
  ]
}